{
  "cells": [
    {
      "cell_type": "code",
      "execution_count": 1,
      "metadata": {
        "colab": {
          "base_uri": "https://localhost:8080/",
          "height": 730
        },
        "id": "WLUos_zl5j0L",
        "outputId": "415b76fb-b396-4e36-e8ca-e474d02d2370"
      },
      "outputs": [
        {
          "data": {
            "text/html": [
              "<div>\n",
              "<style scoped>\n",
              "    .dataframe tbody tr th:only-of-type {\n",
              "        vertical-align: middle;\n",
              "    }\n",
              "\n",
              "    .dataframe tbody tr th {\n",
              "        vertical-align: top;\n",
              "    }\n",
              "\n",
              "    .dataframe thead th {\n",
              "        text-align: right;\n",
              "    }\n",
              "</style>\n",
              "<table border=\"1\" class=\"dataframe\">\n",
              "  <thead>\n",
              "    <tr style=\"text-align: right;\">\n",
              "      <th></th>\n",
              "      <th>bytes_in</th>\n",
              "      <th>bytes_out</th>\n",
              "      <th>creation_time</th>\n",
              "      <th>end_time</th>\n",
              "      <th>src_ip</th>\n",
              "      <th>src_ip_country_code</th>\n",
              "      <th>protocol</th>\n",
              "      <th>response.code</th>\n",
              "      <th>dst_port</th>\n",
              "      <th>dst_ip</th>\n",
              "      <th>rule_names</th>\n",
              "      <th>observation_name</th>\n",
              "      <th>source.meta</th>\n",
              "      <th>source.name</th>\n",
              "      <th>time</th>\n",
              "      <th>detection_types</th>\n",
              "    </tr>\n",
              "  </thead>\n",
              "  <tbody>\n",
              "    <tr>\n",
              "      <th>0</th>\n",
              "      <td>5602</td>\n",
              "      <td>12990</td>\n",
              "      <td>2024-04-25T23:00:00Z</td>\n",
              "      <td>2024-04-25T23:10:00Z</td>\n",
              "      <td>147.161.161.82</td>\n",
              "      <td>AE</td>\n",
              "      <td>HTTPS</td>\n",
              "      <td>200</td>\n",
              "      <td>443</td>\n",
              "      <td>10.138.69.97</td>\n",
              "      <td>Suspicious Web Traffic</td>\n",
              "      <td>Adversary Infrastructure Interaction</td>\n",
              "      <td>AWS_VPC_Flow</td>\n",
              "      <td>prod_webserver</td>\n",
              "      <td>2024-04-25T23:00:00Z</td>\n",
              "      <td>waf_rule</td>\n",
              "    </tr>\n",
              "    <tr>\n",
              "      <th>1</th>\n",
              "      <td>30912</td>\n",
              "      <td>18186</td>\n",
              "      <td>2024-04-25T23:00:00Z</td>\n",
              "      <td>2024-04-25T23:10:00Z</td>\n",
              "      <td>165.225.33.6</td>\n",
              "      <td>US</td>\n",
              "      <td>HTTPS</td>\n",
              "      <td>200</td>\n",
              "      <td>443</td>\n",
              "      <td>10.138.69.97</td>\n",
              "      <td>Suspicious Web Traffic</td>\n",
              "      <td>Adversary Infrastructure Interaction</td>\n",
              "      <td>AWS_VPC_Flow</td>\n",
              "      <td>prod_webserver</td>\n",
              "      <td>2024-04-25T23:00:00Z</td>\n",
              "      <td>waf_rule</td>\n",
              "    </tr>\n",
              "    <tr>\n",
              "      <th>2</th>\n",
              "      <td>28506</td>\n",
              "      <td>13468</td>\n",
              "      <td>2024-04-25T23:00:00Z</td>\n",
              "      <td>2024-04-25T23:10:00Z</td>\n",
              "      <td>165.225.212.255</td>\n",
              "      <td>CA</td>\n",
              "      <td>HTTPS</td>\n",
              "      <td>200</td>\n",
              "      <td>443</td>\n",
              "      <td>10.138.69.97</td>\n",
              "      <td>Suspicious Web Traffic</td>\n",
              "      <td>Adversary Infrastructure Interaction</td>\n",
              "      <td>AWS_VPC_Flow</td>\n",
              "      <td>prod_webserver</td>\n",
              "      <td>2024-04-25T23:00:00Z</td>\n",
              "      <td>waf_rule</td>\n",
              "    </tr>\n",
              "    <tr>\n",
              "      <th>3</th>\n",
              "      <td>30546</td>\n",
              "      <td>14278</td>\n",
              "      <td>2024-04-25T23:00:00Z</td>\n",
              "      <td>2024-04-25T23:10:00Z</td>\n",
              "      <td>136.226.64.114</td>\n",
              "      <td>US</td>\n",
              "      <td>HTTPS</td>\n",
              "      <td>200</td>\n",
              "      <td>443</td>\n",
              "      <td>10.138.69.97</td>\n",
              "      <td>Suspicious Web Traffic</td>\n",
              "      <td>Adversary Infrastructure Interaction</td>\n",
              "      <td>AWS_VPC_Flow</td>\n",
              "      <td>prod_webserver</td>\n",
              "      <td>2024-04-25T23:00:00Z</td>\n",
              "      <td>waf_rule</td>\n",
              "    </tr>\n",
              "    <tr>\n",
              "      <th>4</th>\n",
              "      <td>6526</td>\n",
              "      <td>13892</td>\n",
              "      <td>2024-04-25T23:00:00Z</td>\n",
              "      <td>2024-04-25T23:10:00Z</td>\n",
              "      <td>165.225.240.79</td>\n",
              "      <td>NL</td>\n",
              "      <td>HTTPS</td>\n",
              "      <td>200</td>\n",
              "      <td>443</td>\n",
              "      <td>10.138.69.97</td>\n",
              "      <td>Suspicious Web Traffic</td>\n",
              "      <td>Adversary Infrastructure Interaction</td>\n",
              "      <td>AWS_VPC_Flow</td>\n",
              "      <td>prod_webserver</td>\n",
              "      <td>2024-04-25T23:00:00Z</td>\n",
              "      <td>waf_rule</td>\n",
              "    </tr>\n",
              "    <tr>\n",
              "      <th>5</th>\n",
              "      <td>3906</td>\n",
              "      <td>3488</td>\n",
              "      <td>2024-04-25T23:00:00Z</td>\n",
              "      <td>2024-04-25T23:10:00Z</td>\n",
              "      <td>136.226.77.103</td>\n",
              "      <td>CA</td>\n",
              "      <td>HTTPS</td>\n",
              "      <td>200</td>\n",
              "      <td>443</td>\n",
              "      <td>10.138.69.97</td>\n",
              "      <td>Suspicious Web Traffic</td>\n",
              "      <td>Adversary Infrastructure Interaction</td>\n",
              "      <td>AWS_VPC_Flow</td>\n",
              "      <td>prod_webserver</td>\n",
              "      <td>2024-04-25T23:00:00Z</td>\n",
              "      <td>waf_rule</td>\n",
              "    </tr>\n",
              "    <tr>\n",
              "      <th>6</th>\n",
              "      <td>17748</td>\n",
              "      <td>29208</td>\n",
              "      <td>2024-04-25T23:00:00Z</td>\n",
              "      <td>2024-04-25T23:10:00Z</td>\n",
              "      <td>165.225.26.101</td>\n",
              "      <td>DE</td>\n",
              "      <td>HTTPS</td>\n",
              "      <td>200</td>\n",
              "      <td>443</td>\n",
              "      <td>10.138.69.97</td>\n",
              "      <td>Suspicious Web Traffic</td>\n",
              "      <td>Adversary Infrastructure Interaction</td>\n",
              "      <td>AWS_VPC_Flow</td>\n",
              "      <td>prod_webserver</td>\n",
              "      <td>2024-04-25T23:00:00Z</td>\n",
              "      <td>waf_rule</td>\n",
              "    </tr>\n",
              "    <tr>\n",
              "      <th>7</th>\n",
              "      <td>4767917</td>\n",
              "      <td>291520</td>\n",
              "      <td>2024-04-25T23:00:00Z</td>\n",
              "      <td>2024-04-25T23:10:00Z</td>\n",
              "      <td>155.91.45.242</td>\n",
              "      <td>US</td>\n",
              "      <td>HTTPS</td>\n",
              "      <td>200</td>\n",
              "      <td>443</td>\n",
              "      <td>10.138.69.97</td>\n",
              "      <td>Suspicious Web Traffic</td>\n",
              "      <td>Adversary Infrastructure Interaction</td>\n",
              "      <td>AWS_VPC_Flow</td>\n",
              "      <td>prod_webserver</td>\n",
              "      <td>2024-04-25T23:00:00Z</td>\n",
              "      <td>waf_rule</td>\n",
              "    </tr>\n",
              "    <tr>\n",
              "      <th>8</th>\n",
              "      <td>10538</td>\n",
              "      <td>15514</td>\n",
              "      <td>2024-04-25T23:00:00Z</td>\n",
              "      <td>2024-04-25T23:10:00Z</td>\n",
              "      <td>165.225.209.4</td>\n",
              "      <td>CA</td>\n",
              "      <td>HTTPS</td>\n",
              "      <td>200</td>\n",
              "      <td>443</td>\n",
              "      <td>10.138.69.97</td>\n",
              "      <td>Suspicious Web Traffic</td>\n",
              "      <td>Adversary Infrastructure Interaction</td>\n",
              "      <td>AWS_VPC_Flow</td>\n",
              "      <td>prod_webserver</td>\n",
              "      <td>2024-04-25T23:00:00Z</td>\n",
              "      <td>waf_rule</td>\n",
              "    </tr>\n",
              "    <tr>\n",
              "      <th>9</th>\n",
              "      <td>9656</td>\n",
              "      <td>6380</td>\n",
              "      <td>2024-04-25T23:00:00Z</td>\n",
              "      <td>2024-04-25T23:10:00Z</td>\n",
              "      <td>147.161.131.1</td>\n",
              "      <td>AT</td>\n",
              "      <td>HTTPS</td>\n",
              "      <td>200</td>\n",
              "      <td>443</td>\n",
              "      <td>10.138.69.97</td>\n",
              "      <td>Suspicious Web Traffic</td>\n",
              "      <td>Adversary Infrastructure Interaction</td>\n",
              "      <td>AWS_VPC_Flow</td>\n",
              "      <td>prod_webserver</td>\n",
              "      <td>2024-04-25T23:00:00Z</td>\n",
              "      <td>waf_rule</td>\n",
              "    </tr>\n",
              "  </tbody>\n",
              "</table>\n",
              "</div>"
            ],
            "text/plain": [
              "   bytes_in  bytes_out         creation_time              end_time  \\\n",
              "0      5602      12990  2024-04-25T23:00:00Z  2024-04-25T23:10:00Z   \n",
              "1     30912      18186  2024-04-25T23:00:00Z  2024-04-25T23:10:00Z   \n",
              "2     28506      13468  2024-04-25T23:00:00Z  2024-04-25T23:10:00Z   \n",
              "3     30546      14278  2024-04-25T23:00:00Z  2024-04-25T23:10:00Z   \n",
              "4      6526      13892  2024-04-25T23:00:00Z  2024-04-25T23:10:00Z   \n",
              "5      3906       3488  2024-04-25T23:00:00Z  2024-04-25T23:10:00Z   \n",
              "6     17748      29208  2024-04-25T23:00:00Z  2024-04-25T23:10:00Z   \n",
              "7   4767917     291520  2024-04-25T23:00:00Z  2024-04-25T23:10:00Z   \n",
              "8     10538      15514  2024-04-25T23:00:00Z  2024-04-25T23:10:00Z   \n",
              "9      9656       6380  2024-04-25T23:00:00Z  2024-04-25T23:10:00Z   \n",
              "\n",
              "            src_ip src_ip_country_code protocol  response.code  dst_port  \\\n",
              "0   147.161.161.82                  AE    HTTPS            200       443   \n",
              "1     165.225.33.6                  US    HTTPS            200       443   \n",
              "2  165.225.212.255                  CA    HTTPS            200       443   \n",
              "3   136.226.64.114                  US    HTTPS            200       443   \n",
              "4   165.225.240.79                  NL    HTTPS            200       443   \n",
              "5   136.226.77.103                  CA    HTTPS            200       443   \n",
              "6   165.225.26.101                  DE    HTTPS            200       443   \n",
              "7    155.91.45.242                  US    HTTPS            200       443   \n",
              "8    165.225.209.4                  CA    HTTPS            200       443   \n",
              "9    147.161.131.1                  AT    HTTPS            200       443   \n",
              "\n",
              "         dst_ip              rule_names                      observation_name  \\\n",
              "0  10.138.69.97  Suspicious Web Traffic  Adversary Infrastructure Interaction   \n",
              "1  10.138.69.97  Suspicious Web Traffic  Adversary Infrastructure Interaction   \n",
              "2  10.138.69.97  Suspicious Web Traffic  Adversary Infrastructure Interaction   \n",
              "3  10.138.69.97  Suspicious Web Traffic  Adversary Infrastructure Interaction   \n",
              "4  10.138.69.97  Suspicious Web Traffic  Adversary Infrastructure Interaction   \n",
              "5  10.138.69.97  Suspicious Web Traffic  Adversary Infrastructure Interaction   \n",
              "6  10.138.69.97  Suspicious Web Traffic  Adversary Infrastructure Interaction   \n",
              "7  10.138.69.97  Suspicious Web Traffic  Adversary Infrastructure Interaction   \n",
              "8  10.138.69.97  Suspicious Web Traffic  Adversary Infrastructure Interaction   \n",
              "9  10.138.69.97  Suspicious Web Traffic  Adversary Infrastructure Interaction   \n",
              "\n",
              "    source.meta     source.name                  time detection_types  \n",
              "0  AWS_VPC_Flow  prod_webserver  2024-04-25T23:00:00Z        waf_rule  \n",
              "1  AWS_VPC_Flow  prod_webserver  2024-04-25T23:00:00Z        waf_rule  \n",
              "2  AWS_VPC_Flow  prod_webserver  2024-04-25T23:00:00Z        waf_rule  \n",
              "3  AWS_VPC_Flow  prod_webserver  2024-04-25T23:00:00Z        waf_rule  \n",
              "4  AWS_VPC_Flow  prod_webserver  2024-04-25T23:00:00Z        waf_rule  \n",
              "5  AWS_VPC_Flow  prod_webserver  2024-04-25T23:00:00Z        waf_rule  \n",
              "6  AWS_VPC_Flow  prod_webserver  2024-04-25T23:00:00Z        waf_rule  \n",
              "7  AWS_VPC_Flow  prod_webserver  2024-04-25T23:00:00Z        waf_rule  \n",
              "8  AWS_VPC_Flow  prod_webserver  2024-04-25T23:00:00Z        waf_rule  \n",
              "9  AWS_VPC_Flow  prod_webserver  2024-04-25T23:00:00Z        waf_rule  "
            ]
          },
          "execution_count": 1,
          "metadata": {},
          "output_type": "execute_result"
        }
      ],
      "source": [
        "import pandas as pd\n",
        "from sklearn.ensemble import IsolationForest\n",
        "from sklearn.preprocessing import StandardScaler\n",
        "import matplotlib.pyplot as plt\n",
        "import seaborn as sns\n",
        "import plotly.graph_objects as go\n",
        "from sklearn.metrics import confusion_matrix\n",
        "\n",
        "# Load the dataset\n",
        "\n",
        "df = pd.read_csv('CloudWatch_Traffic_Web_Attack.csv')\n",
        "\n",
        "df.head(10)\n"
      ]
    },
    {
      "cell_type": "code",
      "execution_count": 2,
      "metadata": {
        "colab": {
          "base_uri": "https://localhost:8080/"
        },
        "id": "5cMrXjAFDkyY",
        "outputId": "8b92c184-7aa0-475e-c8ab-60521fef2464"
      },
      "outputs": [
        {
          "name": "stdout",
          "output_type": "stream",
          "text": [
            "Preprocessing the data...\n",
            "Data preprocessing completed.\n"
          ]
        }
      ],
      "source": [
        "\n",
        "# Data preprocessing\n",
        "print(\"Preprocessing the data...\")\n",
        "df['creation_time'] = pd.to_datetime(df['creation_time'])\n",
        "df['end_time'] = pd.to_datetime(df['end_time'])\n",
        "df['duration'] = (df['end_time'] - df['creation_time']).dt.total_seconds()\n",
        "print(\"Data preprocessing completed.\")\n"
      ]
    },
    {
      "cell_type": "code",
      "execution_count": 3,
      "metadata": {
        "colab": {
          "base_uri": "https://localhost:8080/"
        },
        "id": "6PIXZERI59j-",
        "outputId": "3d8bb639-0f6e-4774-c7c0-1e8dfff1204c"
      },
      "outputs": [
        {
          "name": "stdout",
          "output_type": "stream",
          "text": [
            "Extracting relevant features...\n",
            "Feature extraction completed.\n"
          ]
        }
      ],
      "source": [
        "\n",
        "print(\"Extracting relevant features...\")\n",
        "features = ['bytes_in', 'bytes_out', 'duration']\n",
        "X = df[features].values\n",
        "print(\"Feature extraction completed.\")\n"
      ]
    },
    {
      "cell_type": "code",
      "execution_count": 4,
      "metadata": {
        "colab": {
          "base_uri": "https://localhost:8080/"
        },
        "id": "ajcF77EJDzYs",
        "outputId": "ab65a66b-ada8-4aaf-9bc1-3519a822d87a"
      },
      "outputs": [
        {
          "name": "stdout",
          "output_type": "stream",
          "text": [
            "Normalizing the features...\n",
            "Feature normalization completed.\n",
            "Performing anomaly detection using Isolation Forest...\n",
            "Anomaly detection completed.\n"
          ]
        }
      ],
      "source": [
        "\n",
        "# Normalize the features\n",
        "print(\"Normalizing the features...\")\n",
        "scaler = StandardScaler()\n",
        "X_scaled = scaler.fit_transform(X)\n",
        "print(\"Feature normalization completed.\")\n",
        "\n",
        "# Perform anomaly detection using Isolation Forest\n",
        "print(\"Performing anomaly detection using Isolation Forest...\")\n",
        "clf = IsolationForest(contamination='auto')\n",
        "y_pred = clf.fit_predict(X_scaled)\n",
        "print(\"Anomaly detection completed.\")\n"
      ]
    },
    {
      "cell_type": "code",
      "execution_count": 5,
      "metadata": {
        "colab": {
          "base_uri": "https://localhost:8080/"
        },
        "id": "WIfyxREQD5A7",
        "outputId": "c23e58ec-b53a-4ca1-80ed-4557b6a0e6ee"
      },
      "outputs": [
        {
          "name": "stdout",
          "output_type": "stream",
          "text": [
            "Identifying anomalies...\n",
            "Anomaly identification completed.\n",
            "Detected anomalies:\n",
            "                creation_time                  end_time          src_ip  \\\n",
            "7   2024-04-25 23:00:00+00:00 2024-04-25 23:10:00+00:00   155.91.45.242   \n",
            "10  2024-04-25 23:10:00+00:00 2024-04-25 23:20:00+00:00    165.225.33.6   \n",
            "13  2024-04-25 23:10:00+00:00 2024-04-25 23:20:00+00:00  136.226.64.114   \n",
            "15  2024-04-25 23:10:00+00:00 2024-04-25 23:20:00+00:00  165.225.240.79   \n",
            "18  2024-04-25 23:10:00+00:00 2024-04-25 23:20:00+00:00   155.91.45.242   \n",
            "36  2024-04-25 23:30:00+00:00 2024-04-25 23:40:00+00:00   155.91.45.242   \n",
            "43  2024-04-25 23:40:00+00:00 2024-04-25 23:50:00+00:00  165.225.240.79   \n",
            "47  2024-04-25 23:40:00+00:00 2024-04-25 23:50:00+00:00   155.91.45.242   \n",
            "49  2024-04-25 23:50:00+00:00 2024-04-26 00:00:00+00:00    165.225.33.6   \n",
            "54  2024-04-25 23:50:00+00:00 2024-04-26 00:00:00+00:00   155.91.45.242   \n",
            "64  2024-04-26 00:00:00+00:00 2024-04-26 00:10:00+00:00   155.91.45.242   \n",
            "70  2024-04-26 00:10:00+00:00 2024-04-26 00:20:00+00:00  165.225.240.79   \n",
            "73  2024-04-26 00:10:00+00:00 2024-04-26 00:20:00+00:00   155.91.45.242   \n",
            "87  2024-04-26 00:30:00+00:00 2024-04-26 00:40:00+00:00  165.225.240.79   \n",
            "90  2024-04-26 00:30:00+00:00 2024-04-26 00:40:00+00:00   155.91.45.242   \n",
            "101 2024-04-26 00:40:00+00:00 2024-04-26 00:50:00+00:00   155.91.45.242   \n",
            "107 2024-04-26 00:50:00+00:00 2024-04-26 01:00:00+00:00   155.91.45.242   \n",
            "116 2024-04-26 01:00:00+00:00 2024-04-26 01:10:00+00:00   155.91.45.242   \n",
            "125 2024-04-26 01:10:00+00:00 2024-04-26 01:20:00+00:00   155.91.45.242   \n",
            "132 2024-04-26 01:20:00+00:00 2024-04-26 01:30:00+00:00  165.225.240.79   \n",
            "135 2024-04-26 01:20:00+00:00 2024-04-26 01:30:00+00:00   155.91.45.242   \n",
            "142 2024-04-26 01:30:00+00:00 2024-04-26 01:40:00+00:00  165.225.240.79   \n",
            "146 2024-04-26 01:30:00+00:00 2024-04-26 01:40:00+00:00   155.91.45.242   \n",
            "153 2024-04-26 01:40:00+00:00 2024-04-26 01:50:00+00:00   155.91.45.242   \n",
            "158 2024-04-26 01:50:00+00:00 2024-04-26 02:00:00+00:00  136.226.67.101   \n",
            "161 2024-04-26 01:50:00+00:00 2024-04-26 02:00:00+00:00   155.91.45.242   \n",
            "169 2024-04-26 08:00:00+00:00 2024-04-26 08:10:00+00:00   155.91.45.242   \n",
            "176 2024-04-26 08:10:00+00:00 2024-04-26 08:20:00+00:00   155.91.45.242   \n",
            "185 2024-04-26 08:20:00+00:00 2024-04-26 08:30:00+00:00   155.91.45.242   \n",
            "190 2024-04-26 08:30:00+00:00 2024-04-26 08:40:00+00:00  136.226.67.101   \n",
            "194 2024-04-26 08:30:00+00:00 2024-04-26 08:40:00+00:00   155.91.45.242   \n",
            "198 2024-04-26 08:40:00+00:00 2024-04-26 08:50:00+00:00  165.225.240.79   \n",
            "200 2024-04-26 08:40:00+00:00 2024-04-26 08:50:00+00:00   155.91.45.242   \n",
            "211 2024-04-26 08:50:00+00:00 2024-04-26 09:00:00+00:00   155.91.45.242   \n",
            "221 2024-04-26 09:10:00+00:00 2024-04-26 09:20:00+00:00  165.225.240.79   \n",
            "229 2024-04-26 09:10:00+00:00 2024-04-26 09:20:00+00:00   155.91.45.242   \n",
            "232 2024-04-26 09:00:00+00:00 2024-04-26 09:10:00+00:00   155.91.45.242   \n",
            "245 2024-04-26 09:20:00+00:00 2024-04-26 09:30:00+00:00  165.225.240.79   \n",
            "248 2024-04-26 09:20:00+00:00 2024-04-26 09:30:00+00:00   155.91.45.242   \n",
            "255 2024-04-26 09:30:00+00:00 2024-04-26 09:40:00+00:00  165.225.240.79   \n",
            "257 2024-04-26 09:30:00+00:00 2024-04-26 09:40:00+00:00   155.91.45.242   \n",
            "258 2024-04-26 09:30:00+00:00 2024-04-26 09:40:00+00:00   165.225.209.4   \n",
            "264 2024-04-26 09:40:00+00:00 2024-04-26 09:50:00+00:00  165.225.240.79   \n",
            "267 2024-04-26 09:40:00+00:00 2024-04-26 09:50:00+00:00   155.91.45.242   \n",
            "279 2024-04-26 09:50:00+00:00 2024-04-26 10:00:00+00:00   155.91.45.242   \n",
            "\n",
            "           dst_ip  bytes_in  bytes_out  duration  \n",
            "7    10.138.69.97   4767917     291520     600.0  \n",
            "10   10.138.69.97     57208      32874     600.0  \n",
            "13   10.138.69.97     73752      18924     600.0  \n",
            "15   10.138.69.97   1968903      38773     600.0  \n",
            "18   10.138.69.97   4804723     291088     600.0  \n",
            "36   10.138.69.97   4190330     283456     600.0  \n",
            "43   10.138.69.97   2015975      79990     600.0  \n",
            "47   10.138.69.97   4758826     289956     600.0  \n",
            "49   10.138.69.97     60686      35910     600.0  \n",
            "54   10.138.69.97   4791678     291275     600.0  \n",
            "64   10.138.69.97   4793434     292176     600.0  \n",
            "70   10.138.69.97   2019990      55292     600.0  \n",
            "73   10.138.69.97   4794053     290955     600.0  \n",
            "87   10.138.69.97   1215594      64362     600.0  \n",
            "90   10.138.69.97   4803684     294875     600.0  \n",
            "101  10.138.69.97   4801644     292969     600.0  \n",
            "107  10.138.69.97   4809606     290761     600.0  \n",
            "116  10.138.69.97   4827283     306181     600.0  \n",
            "125  10.138.69.97   4776536     289969     600.0  \n",
            "132  10.138.69.97   1889834      34306     600.0  \n",
            "135  10.138.69.97   4788904     294113     600.0  \n",
            "142  10.138.69.97   1253276      46666     600.0  \n",
            "146  10.138.69.97   4808787     301495     600.0  \n",
            "153  10.138.69.97   4869181     301752     600.0  \n",
            "158  10.138.69.97     37105      49494     600.0  \n",
            "161  10.138.69.97   4755578     292284     600.0  \n",
            "169  10.138.69.97  18201558    1170896     600.0  \n",
            "176  10.138.69.97  18273120    1145109     600.0  \n",
            "185  10.138.69.97  18285525    1130944     600.0  \n",
            "190  10.138.69.97     37156      48239     600.0  \n",
            "194  10.138.69.97  18239056    1144663     600.0  \n",
            "198  10.138.69.97   1996566      56644     600.0  \n",
            "200  10.138.69.97  18125238    1121958     600.0  \n",
            "211  10.138.69.97  18171403    1103358     600.0  \n",
            "221  10.138.69.97   2007229      59926     600.0  \n",
            "229  10.138.69.97  18119202    1132321     600.0  \n",
            "232  10.138.69.97  18187778    1142605     600.0  \n",
            "245  10.138.69.97   1942449      49030     600.0  \n",
            "248  10.138.69.97  18231909    1116695     600.0  \n",
            "255  10.138.69.97   1248666      38254     600.0  \n",
            "257  10.138.69.97  24326941    1529035     600.0  \n",
            "258  10.138.69.97     28062      52066     600.0  \n",
            "264  10.138.69.97   2021960      78684     600.0  \n",
            "267  10.138.69.97  25199191    1557598     600.0  \n",
            "279  10.138.69.97  25207794    1561220     600.0  \n"
          ]
        }
      ],
      "source": [
        "\n",
        "# Identify anomalies\n",
        "print(\"Identifying anomalies...\")\n",
        "anomalies = df.loc[y_pred == -1]\n",
        "print(\"Anomaly identification completed.\")\n",
        "\n",
        "# Print the anomalies\n",
        "print(\"Detected anomalies:\")\n",
        "print(anomalies[['creation_time', 'end_time', 'src_ip', 'dst_ip', 'bytes_in', 'bytes_out', 'duration']])\n"
      ]
    },
    {
      "cell_type": "code",
      "execution_count": 6,
      "metadata": {
        "colab": {
          "base_uri": "https://localhost:8080/"
        },
        "id": "V9CQb9qEEVgS",
        "outputId": "f28d475c-7353-4662-f7a4-022e74891da1"
      },
      "outputs": [
        {
          "name": "stdout",
          "output_type": "stream",
          "text": [
            "Evaluating the anomaly detection performance...\n",
            "Confusion matrix:\n",
            "[[  0   0   0]\n",
            " [  0   0 237]\n",
            " [ 45   0   0]]\n",
            "True Negatives: 0\n",
            "False Positives: 0\n",
            "False Negatives: 0\n",
            "True Positives: 0\n"
          ]
        }
      ],
      "source": [
        "\n",
        "# Evaluate the anomaly detection using a confusion matrix\n",
        "print(\"Evaluating the anomaly detection performance...\")\n",
        "y_true = [0 if label == 1 else 1 for label in y_pred]\n",
        "cm = confusion_matrix(y_true, y_pred)\n",
        "print(\"Confusion matrix:\")\n",
        "print(cm)\n",
        "\n",
        "tn = cm[0, 0]\n",
        "fp = cm[0, 1]\n",
        "fn = cm[1, 0]\n",
        "tp = cm[1, 1]\n",
        "\n",
        "print(f\"True Negatives: {tn}\")\n",
        "print(f\"False Positives: {fp}\")\n",
        "print(f\"False Negatives: {fn}\")\n",
        "print(f\"True Positives: {tp}\")\n"
      ]
    },
    {
      "cell_type": "code",
      "execution_count": 7,
      "metadata": {
        "colab": {
          "base_uri": "https://localhost:8080/",
          "height": 560
        },
        "id": "N0tYlrgED74J",
        "outputId": "43fdf9c5-9d71-4a7e-bc06-90276dad8ea4"
      },
      "outputs": [
        {
          "name": "stdout",
          "output_type": "stream",
          "text": [
            "Visualizing the results using Plotly...\n"
          ]
        },
        {
          "data": {
            "application/vnd.plotly.v1+json": {
              "config": {
                "plotlyServerURL": "https://plot.ly"
              },
              "data": [
                {
                  "marker": {
                    "color": [
                      1,
                      1,
                      1,
                      1,
                      1,
                      1,
                      1,
                      -1,
                      1,
                      1,
                      -1,
                      1,
                      1,
                      -1,
                      1,
                      -1,
                      1,
                      1,
                      -1,
                      1,
                      1,
                      1,
                      1,
                      1,
                      1,
                      1,
                      1,
                      1,
                      1,
                      1,
                      1,
                      1,
                      1,
                      1,
                      1,
                      1,
                      -1,
                      1,
                      1,
                      1,
                      1,
                      1,
                      1,
                      -1,
                      1,
                      1,
                      1,
                      -1,
                      1,
                      -1,
                      1,
                      1,
                      1,
                      1,
                      -1,
                      1,
                      1,
                      1,
                      1,
                      1,
                      1,
                      1,
                      1,
                      1,
                      -1,
                      1,
                      1,
                      1,
                      1,
                      1,
                      -1,
                      1,
                      1,
                      -1,
                      1,
                      1,
                      1,
                      1,
                      1,
                      1,
                      1,
                      1,
                      1,
                      1,
                      1,
                      1,
                      1,
                      -1,
                      1,
                      1,
                      -1,
                      1,
                      1,
                      1,
                      1,
                      1,
                      1,
                      1,
                      1,
                      1,
                      1,
                      -1,
                      1,
                      1,
                      1,
                      1,
                      1,
                      -1,
                      1,
                      1,
                      1,
                      1,
                      1,
                      1,
                      1,
                      1,
                      -1,
                      1,
                      1,
                      1,
                      1,
                      1,
                      1,
                      1,
                      1,
                      -1,
                      1,
                      1,
                      1,
                      1,
                      1,
                      1,
                      -1,
                      1,
                      1,
                      -1,
                      1,
                      1,
                      1,
                      1,
                      1,
                      1,
                      -1,
                      1,
                      1,
                      1,
                      -1,
                      1,
                      1,
                      1,
                      1,
                      1,
                      1,
                      -1,
                      1,
                      1,
                      1,
                      1,
                      -1,
                      1,
                      1,
                      -1,
                      1,
                      1,
                      1,
                      1,
                      1,
                      1,
                      1,
                      -1,
                      1,
                      1,
                      1,
                      1,
                      1,
                      1,
                      -1,
                      1,
                      1,
                      1,
                      1,
                      1,
                      1,
                      1,
                      1,
                      -1,
                      1,
                      1,
                      1,
                      1,
                      -1,
                      1,
                      1,
                      1,
                      -1,
                      1,
                      1,
                      1,
                      -1,
                      1,
                      -1,
                      1,
                      1,
                      1,
                      1,
                      1,
                      1,
                      1,
                      1,
                      1,
                      1,
                      -1,
                      1,
                      1,
                      1,
                      1,
                      1,
                      1,
                      1,
                      1,
                      1,
                      -1,
                      1,
                      1,
                      1,
                      1,
                      1,
                      1,
                      1,
                      -1,
                      1,
                      1,
                      -1,
                      1,
                      1,
                      1,
                      1,
                      1,
                      1,
                      1,
                      1,
                      1,
                      1,
                      1,
                      1,
                      -1,
                      1,
                      1,
                      -1,
                      1,
                      1,
                      1,
                      1,
                      1,
                      1,
                      -1,
                      1,
                      -1,
                      -1,
                      1,
                      1,
                      1,
                      1,
                      1,
                      -1,
                      1,
                      1,
                      -1,
                      1,
                      1,
                      1,
                      1,
                      1,
                      1,
                      1,
                      1,
                      1,
                      1,
                      1,
                      -1,
                      1,
                      1
                    ],
                    "colorscale": [
                      [
                        0,
                        "#440154"
                      ],
                      [
                        0.1111111111111111,
                        "#482878"
                      ],
                      [
                        0.2222222222222222,
                        "#3e4989"
                      ],
                      [
                        0.3333333333333333,
                        "#31688e"
                      ],
                      [
                        0.4444444444444444,
                        "#26828e"
                      ],
                      [
                        0.5555555555555556,
                        "#1f9e89"
                      ],
                      [
                        0.6666666666666666,
                        "#35b779"
                      ],
                      [
                        0.7777777777777778,
                        "#6ece58"
                      ],
                      [
                        0.8888888888888888,
                        "#b5de2b"
                      ],
                      [
                        1,
                        "#fde725"
                      ]
                    ]
                  },
                  "mode": "markers",
                  "type": "scatter",
                  "x": [
                    "2024-04-25T23:00:00+00:00",
                    "2024-04-25T23:00:00+00:00",
                    "2024-04-25T23:00:00+00:00",
                    "2024-04-25T23:00:00+00:00",
                    "2024-04-25T23:00:00+00:00",
                    "2024-04-25T23:00:00+00:00",
                    "2024-04-25T23:00:00+00:00",
                    "2024-04-25T23:00:00+00:00",
                    "2024-04-25T23:00:00+00:00",
                    "2024-04-25T23:00:00+00:00",
                    "2024-04-25T23:10:00+00:00",
                    "2024-04-25T23:10:00+00:00",
                    "2024-04-25T23:10:00+00:00",
                    "2024-04-25T23:10:00+00:00",
                    "2024-04-25T23:10:00+00:00",
                    "2024-04-25T23:10:00+00:00",
                    "2024-04-25T23:10:00+00:00",
                    "2024-04-25T23:10:00+00:00",
                    "2024-04-25T23:10:00+00:00",
                    "2024-04-25T23:10:00+00:00",
                    "2024-04-25T23:10:00+00:00",
                    "2024-04-25T23:20:00+00:00",
                    "2024-04-25T23:20:00+00:00",
                    "2024-04-25T23:20:00+00:00",
                    "2024-04-25T23:20:00+00:00",
                    "2024-04-25T23:20:00+00:00",
                    "2024-04-25T23:20:00+00:00",
                    "2024-04-25T23:20:00+00:00",
                    "2024-04-25T23:20:00+00:00",
                    "2024-04-25T23:20:00+00:00",
                    "2024-04-25T23:20:00+00:00",
                    "2024-04-25T23:20:00+00:00",
                    "2024-04-25T23:30:00+00:00",
                    "2024-04-25T23:30:00+00:00",
                    "2024-04-25T23:30:00+00:00",
                    "2024-04-25T23:30:00+00:00",
                    "2024-04-25T23:30:00+00:00",
                    "2024-04-25T23:30:00+00:00",
                    "2024-04-25T23:30:00+00:00",
                    "2024-04-25T23:30:00+00:00",
                    "2024-04-25T23:40:00+00:00",
                    "2024-04-25T23:40:00+00:00",
                    "2024-04-25T23:40:00+00:00",
                    "2024-04-25T23:40:00+00:00",
                    "2024-04-25T23:40:00+00:00",
                    "2024-04-25T23:40:00+00:00",
                    "2024-04-25T23:40:00+00:00",
                    "2024-04-25T23:40:00+00:00",
                    "2024-04-25T23:40:00+00:00",
                    "2024-04-25T23:50:00+00:00",
                    "2024-04-25T23:50:00+00:00",
                    "2024-04-25T23:50:00+00:00",
                    "2024-04-25T23:50:00+00:00",
                    "2024-04-25T23:50:00+00:00",
                    "2024-04-25T23:50:00+00:00",
                    "2024-04-25T23:50:00+00:00",
                    "2024-04-25T23:50:00+00:00",
                    "2024-04-25T23:50:00+00:00",
                    "2024-04-26T00:00:00+00:00",
                    "2024-04-26T00:00:00+00:00",
                    "2024-04-26T00:00:00+00:00",
                    "2024-04-26T00:00:00+00:00",
                    "2024-04-26T00:00:00+00:00",
                    "2024-04-26T00:00:00+00:00",
                    "2024-04-26T00:00:00+00:00",
                    "2024-04-26T00:00:00+00:00",
                    "2024-04-26T00:10:00+00:00",
                    "2024-04-26T00:10:00+00:00",
                    "2024-04-26T00:10:00+00:00",
                    "2024-04-26T00:10:00+00:00",
                    "2024-04-26T00:10:00+00:00",
                    "2024-04-26T00:10:00+00:00",
                    "2024-04-26T00:10:00+00:00",
                    "2024-04-26T00:10:00+00:00",
                    "2024-04-26T00:10:00+00:00",
                    "2024-04-26T00:10:00+00:00",
                    "2024-04-26T00:20:00+00:00",
                    "2024-04-26T00:20:00+00:00",
                    "2024-04-26T00:20:00+00:00",
                    "2024-04-26T00:20:00+00:00",
                    "2024-04-26T00:20:00+00:00",
                    "2024-04-26T00:20:00+00:00",
                    "2024-04-26T00:20:00+00:00",
                    "2024-04-26T00:20:00+00:00",
                    "2024-04-26T00:30:00+00:00",
                    "2024-04-26T00:30:00+00:00",
                    "2024-04-26T00:30:00+00:00",
                    "2024-04-26T00:30:00+00:00",
                    "2024-04-26T00:30:00+00:00",
                    "2024-04-26T00:30:00+00:00",
                    "2024-04-26T00:30:00+00:00",
                    "2024-04-26T00:30:00+00:00",
                    "2024-04-26T00:30:00+00:00",
                    "2024-04-26T00:40:00+00:00",
                    "2024-04-26T00:40:00+00:00",
                    "2024-04-26T00:40:00+00:00",
                    "2024-04-26T00:40:00+00:00",
                    "2024-04-26T00:40:00+00:00",
                    "2024-04-26T00:40:00+00:00",
                    "2024-04-26T00:40:00+00:00",
                    "2024-04-26T00:40:00+00:00",
                    "2024-04-26T00:40:00+00:00",
                    "2024-04-26T00:40:00+00:00",
                    "2024-04-26T00:50:00+00:00",
                    "2024-04-26T00:50:00+00:00",
                    "2024-04-26T00:50:00+00:00",
                    "2024-04-26T00:50:00+00:00",
                    "2024-04-26T00:50:00+00:00",
                    "2024-04-26T00:50:00+00:00",
                    "2024-04-26T01:00:00+00:00",
                    "2024-04-26T01:00:00+00:00",
                    "2024-04-26T01:00:00+00:00",
                    "2024-04-26T01:00:00+00:00",
                    "2024-04-26T01:00:00+00:00",
                    "2024-04-26T01:00:00+00:00",
                    "2024-04-26T01:00:00+00:00",
                    "2024-04-26T01:00:00+00:00",
                    "2024-04-26T01:00:00+00:00",
                    "2024-04-26T01:00:00+00:00",
                    "2024-04-26T01:10:00+00:00",
                    "2024-04-26T01:10:00+00:00",
                    "2024-04-26T01:10:00+00:00",
                    "2024-04-26T01:10:00+00:00",
                    "2024-04-26T01:10:00+00:00",
                    "2024-04-26T01:10:00+00:00",
                    "2024-04-26T01:10:00+00:00",
                    "2024-04-26T01:10:00+00:00",
                    "2024-04-26T01:10:00+00:00",
                    "2024-04-26T01:20:00+00:00",
                    "2024-04-26T01:20:00+00:00",
                    "2024-04-26T01:20:00+00:00",
                    "2024-04-26T01:20:00+00:00",
                    "2024-04-26T01:20:00+00:00",
                    "2024-04-26T01:20:00+00:00",
                    "2024-04-26T01:20:00+00:00",
                    "2024-04-26T01:20:00+00:00",
                    "2024-04-26T01:20:00+00:00",
                    "2024-04-26T01:20:00+00:00",
                    "2024-04-26T01:30:00+00:00",
                    "2024-04-26T01:30:00+00:00",
                    "2024-04-26T01:30:00+00:00",
                    "2024-04-26T01:30:00+00:00",
                    "2024-04-26T01:30:00+00:00",
                    "2024-04-26T01:30:00+00:00",
                    "2024-04-26T01:30:00+00:00",
                    "2024-04-26T01:30:00+00:00",
                    "2024-04-26T01:30:00+00:00",
                    "2024-04-26T01:30:00+00:00",
                    "2024-04-26T01:40:00+00:00",
                    "2024-04-26T01:40:00+00:00",
                    "2024-04-26T01:40:00+00:00",
                    "2024-04-26T01:40:00+00:00",
                    "2024-04-26T01:40:00+00:00",
                    "2024-04-26T01:40:00+00:00",
                    "2024-04-26T01:40:00+00:00",
                    "2024-04-26T01:40:00+00:00",
                    "2024-04-26T01:40:00+00:00",
                    "2024-04-26T01:50:00+00:00",
                    "2024-04-26T01:50:00+00:00",
                    "2024-04-26T01:50:00+00:00",
                    "2024-04-26T01:50:00+00:00",
                    "2024-04-26T01:50:00+00:00",
                    "2024-04-26T01:50:00+00:00",
                    "2024-04-26T01:50:00+00:00",
                    "2024-04-26T01:50:00+00:00",
                    "2024-04-26T08:00:00+00:00",
                    "2024-04-26T08:00:00+00:00",
                    "2024-04-26T08:00:00+00:00",
                    "2024-04-26T08:00:00+00:00",
                    "2024-04-26T08:00:00+00:00",
                    "2024-04-26T08:00:00+00:00",
                    "2024-04-26T08:00:00+00:00",
                    "2024-04-26T08:10:00+00:00",
                    "2024-04-26T08:10:00+00:00",
                    "2024-04-26T08:10:00+00:00",
                    "2024-04-26T08:10:00+00:00",
                    "2024-04-26T08:10:00+00:00",
                    "2024-04-26T08:10:00+00:00",
                    "2024-04-26T08:10:00+00:00",
                    "2024-04-26T08:20:00+00:00",
                    "2024-04-26T08:20:00+00:00",
                    "2024-04-26T08:20:00+00:00",
                    "2024-04-26T08:20:00+00:00",
                    "2024-04-26T08:20:00+00:00",
                    "2024-04-26T08:20:00+00:00",
                    "2024-04-26T08:20:00+00:00",
                    "2024-04-26T08:20:00+00:00",
                    "2024-04-26T08:20:00+00:00",
                    "2024-04-26T08:20:00+00:00",
                    "2024-04-26T08:30:00+00:00",
                    "2024-04-26T08:30:00+00:00",
                    "2024-04-26T08:30:00+00:00",
                    "2024-04-26T08:30:00+00:00",
                    "2024-04-26T08:30:00+00:00",
                    "2024-04-26T08:30:00+00:00",
                    "2024-04-26T08:30:00+00:00",
                    "2024-04-26T08:30:00+00:00",
                    "2024-04-26T08:40:00+00:00",
                    "2024-04-26T08:40:00+00:00",
                    "2024-04-26T08:40:00+00:00",
                    "2024-04-26T08:40:00+00:00",
                    "2024-04-26T08:40:00+00:00",
                    "2024-04-26T08:40:00+00:00",
                    "2024-04-26T08:40:00+00:00",
                    "2024-04-26T08:50:00+00:00",
                    "2024-04-26T08:50:00+00:00",
                    "2024-04-26T08:50:00+00:00",
                    "2024-04-26T08:50:00+00:00",
                    "2024-04-26T08:50:00+00:00",
                    "2024-04-26T08:50:00+00:00",
                    "2024-04-26T08:50:00+00:00",
                    "2024-04-26T08:50:00+00:00",
                    "2024-04-26T08:50:00+00:00",
                    "2024-04-26T08:50:00+00:00",
                    "2024-04-26T08:50:00+00:00",
                    "2024-04-26T08:50:00+00:00",
                    "2024-04-26T08:50:00+00:00",
                    "2024-04-26T09:10:00+00:00",
                    "2024-04-26T09:10:00+00:00",
                    "2024-04-26T09:10:00+00:00",
                    "2024-04-26T09:00:00+00:00",
                    "2024-04-26T09:10:00+00:00",
                    "2024-04-26T09:00:00+00:00",
                    "2024-04-26T09:00:00+00:00",
                    "2024-04-26T09:00:00+00:00",
                    "2024-04-26T09:10:00+00:00",
                    "2024-04-26T09:10:00+00:00",
                    "2024-04-26T09:00:00+00:00",
                    "2024-04-26T09:00:00+00:00",
                    "2024-04-26T09:10:00+00:00",
                    "2024-04-26T09:00:00+00:00",
                    "2024-04-26T09:10:00+00:00",
                    "2024-04-26T09:00:00+00:00",
                    "2024-04-26T09:00:00+00:00",
                    "2024-04-26T09:00:00+00:00",
                    "2024-04-26T09:00:00+00:00",
                    "2024-04-26T09:00:00+00:00",
                    "2024-04-26T09:00:00+00:00",
                    "2024-04-26T09:10:00+00:00",
                    "2024-04-26T09:00:00+00:00",
                    "2024-04-26T09:00:00+00:00",
                    "2024-04-26T09:00:00+00:00",
                    "2024-04-26T09:00:00+00:00",
                    "2024-04-26T09:20:00+00:00",
                    "2024-04-26T09:20:00+00:00",
                    "2024-04-26T09:20:00+00:00",
                    "2024-04-26T09:20:00+00:00",
                    "2024-04-26T09:20:00+00:00",
                    "2024-04-26T09:20:00+00:00",
                    "2024-04-26T09:20:00+00:00",
                    "2024-04-26T09:20:00+00:00",
                    "2024-04-26T09:30:00+00:00",
                    "2024-04-26T09:30:00+00:00",
                    "2024-04-26T09:30:00+00:00",
                    "2024-04-26T09:30:00+00:00",
                    "2024-04-26T09:30:00+00:00",
                    "2024-04-26T09:30:00+00:00",
                    "2024-04-26T09:30:00+00:00",
                    "2024-04-26T09:30:00+00:00",
                    "2024-04-26T09:30:00+00:00",
                    "2024-04-26T09:40:00+00:00",
                    "2024-04-26T09:40:00+00:00",
                    "2024-04-26T09:40:00+00:00",
                    "2024-04-26T09:40:00+00:00",
                    "2024-04-26T09:40:00+00:00",
                    "2024-04-26T09:40:00+00:00",
                    "2024-04-26T09:40:00+00:00",
                    "2024-04-26T09:40:00+00:00",
                    "2024-04-26T09:40:00+00:00",
                    "2024-04-26T09:40:00+00:00",
                    "2024-04-26T09:40:00+00:00",
                    "2024-04-26T09:50:00+00:00",
                    "2024-04-26T09:50:00+00:00",
                    "2024-04-26T09:50:00+00:00",
                    "2024-04-26T09:50:00+00:00",
                    "2024-04-26T09:50:00+00:00",
                    "2024-04-26T09:50:00+00:00",
                    "2024-04-26T09:50:00+00:00",
                    "2024-04-26T09:50:00+00:00",
                    "2024-04-26T09:50:00+00:00",
                    "2024-04-26T09:50:00+00:00",
                    "2024-04-26T09:50:00+00:00"
                  ],
                  "y": [
                    5602,
                    30912,
                    28506,
                    30546,
                    6526,
                    3906,
                    17748,
                    4767917,
                    10538,
                    9656,
                    57208,
                    18162,
                    28056,
                    73752,
                    4080,
                    1968903,
                    6958,
                    8310,
                    4804723,
                    11820,
                    8206,
                    29356,
                    26178,
                    29308,
                    60068,
                    4043,
                    3102,
                    8310,
                    5528,
                    4926,
                    7724,
                    80,
                    23048,
                    28444,
                    5824,
                    10474,
                    4190330,
                    5080,
                    4220,
                    952,
                    36745,
                    12068,
                    57462,
                    2015975,
                    4064,
                    33268,
                    7424,
                    4758826,
                    17736,
                    60686,
                    21698,
                    28296,
                    4721,
                    9968,
                    4791678,
                    10768,
                    3996,
                    4220,
                    26354,
                    33777,
                    28762,
                    28478,
                    4288,
                    8874,
                    4793434,
                    16948,
                    5810,
                    28730,
                    29002,
                    44270,
                    2019990,
                    3498,
                    16698,
                    4794053,
                    6606,
                    9910,
                    26250,
                    21448,
                    28524,
                    9600,
                    7786,
                    33662,
                    6480,
                    16698,
                    4018,
                    38560,
                    57088,
                    1215594,
                    3514,
                    13338,
                    4803684,
                    13132,
                    5238,
                    9052,
                    31076,
                    28518,
                    43660,
                    26820,
                    3206,
                    35894,
                    9132,
                    4801644,
                    22790,
                    29040,
                    27938,
                    34660,
                    5238,
                    4809606,
                    6742,
                    4138,
                    10262,
                    28048,
                    4064,
                    47774,
                    3326,
                    9336,
                    4827283,
                    10830,
                    9806,
                    16062,
                    29010,
                    3722,
                    7182,
                    3102,
                    10012,
                    4776536,
                    528,
                    6376,
                    9620,
                    24442,
                    29586,
                    30178,
                    1889834,
                    5154,
                    12764,
                    4788904,
                    22366,
                    6376,
                    3618,
                    23680,
                    28388,
                    43840,
                    1253276,
                    4080,
                    3206,
                    14222,
                    4808787,
                    7294,
                    5824,
                    5492,
                    28644,
                    3206,
                    38780,
                    4869181,
                    6046,
                    6584,
                    7666,
                    5140,
                    37105,
                    28896,
                    8872,
                    4755578,
                    11358,
                    4264,
                    3966,
                    35666,
                    28540,
                    44408,
                    8202,
                    18201558,
                    23836,
                    3862,
                    15978,
                    28042,
                    3618,
                    13546,
                    18273120,
                    15094,
                    5238,
                    4480,
                    30396,
                    28628,
                    1360,
                    3976,
                    9440,
                    18285525,
                    24200,
                    5030,
                    7204,
                    4168,
                    37156,
                    27912,
                    44390,
                    4686,
                    18239056,
                    6806,
                    10118,
                    15016,
                    1996566,
                    10578,
                    18125238,
                    18482,
                    5238,
                    4116,
                    4272,
                    31166,
                    28830,
                    60122,
                    3678,
                    36522,
                    13232,
                    18171403,
                    1147,
                    80,
                    790,
                    5030,
                    3638,
                    4704,
                    16960,
                    29314,
                    28244,
                    2007229,
                    18890,
                    27970,
                    30596,
                    6488,
                    9908,
                    48614,
                    7994,
                    18119202,
                    3904,
                    5736,
                    18187778,
                    5482,
                    1112,
                    833,
                    1674,
                    1328,
                    3534,
                    1628,
                    5518,
                    3314,
                    5342,
                    6486,
                    24506,
                    1942449,
                    3976,
                    10162,
                    18231909,
                    22070,
                    10222,
                    4392,
                    14150,
                    43550,
                    7474,
                    1248666,
                    9908,
                    24326941,
                    28062,
                    8928,
                    5348,
                    8052,
                    38524,
                    28400,
                    2021960,
                    7382,
                    9232,
                    25199191,
                    6216,
                    3996,
                    4324,
                    21752,
                    28988,
                    30450,
                    3976,
                    3782,
                    40,
                    41336,
                    3638,
                    25207794,
                    5736,
                    9032
                  ]
                },
                {
                  "marker": {
                    "color": "red",
                    "size": 10
                  },
                  "mode": "markers",
                  "type": "scatter",
                  "x": [
                    "2024-04-25T23:00:00+00:00",
                    "2024-04-25T23:10:00+00:00",
                    "2024-04-25T23:10:00+00:00",
                    "2024-04-25T23:10:00+00:00",
                    "2024-04-25T23:10:00+00:00",
                    "2024-04-25T23:30:00+00:00",
                    "2024-04-25T23:40:00+00:00",
                    "2024-04-25T23:40:00+00:00",
                    "2024-04-25T23:50:00+00:00",
                    "2024-04-25T23:50:00+00:00",
                    "2024-04-26T00:00:00+00:00",
                    "2024-04-26T00:10:00+00:00",
                    "2024-04-26T00:10:00+00:00",
                    "2024-04-26T00:30:00+00:00",
                    "2024-04-26T00:30:00+00:00",
                    "2024-04-26T00:40:00+00:00",
                    "2024-04-26T00:50:00+00:00",
                    "2024-04-26T01:00:00+00:00",
                    "2024-04-26T01:10:00+00:00",
                    "2024-04-26T01:20:00+00:00",
                    "2024-04-26T01:20:00+00:00",
                    "2024-04-26T01:30:00+00:00",
                    "2024-04-26T01:30:00+00:00",
                    "2024-04-26T01:40:00+00:00",
                    "2024-04-26T01:50:00+00:00",
                    "2024-04-26T01:50:00+00:00",
                    "2024-04-26T08:00:00+00:00",
                    "2024-04-26T08:10:00+00:00",
                    "2024-04-26T08:20:00+00:00",
                    "2024-04-26T08:30:00+00:00",
                    "2024-04-26T08:30:00+00:00",
                    "2024-04-26T08:40:00+00:00",
                    "2024-04-26T08:40:00+00:00",
                    "2024-04-26T08:50:00+00:00",
                    "2024-04-26T09:10:00+00:00",
                    "2024-04-26T09:10:00+00:00",
                    "2024-04-26T09:00:00+00:00",
                    "2024-04-26T09:20:00+00:00",
                    "2024-04-26T09:20:00+00:00",
                    "2024-04-26T09:30:00+00:00",
                    "2024-04-26T09:30:00+00:00",
                    "2024-04-26T09:30:00+00:00",
                    "2024-04-26T09:40:00+00:00",
                    "2024-04-26T09:40:00+00:00",
                    "2024-04-26T09:50:00+00:00"
                  ],
                  "y": [
                    4767917,
                    57208,
                    73752,
                    1968903,
                    4804723,
                    4190330,
                    2015975,
                    4758826,
                    60686,
                    4791678,
                    4793434,
                    2019990,
                    4794053,
                    1215594,
                    4803684,
                    4801644,
                    4809606,
                    4827283,
                    4776536,
                    1889834,
                    4788904,
                    1253276,
                    4808787,
                    4869181,
                    37105,
                    4755578,
                    18201558,
                    18273120,
                    18285525,
                    37156,
                    18239056,
                    1996566,
                    18125238,
                    18171403,
                    2007229,
                    18119202,
                    18187778,
                    1942449,
                    18231909,
                    1248666,
                    24326941,
                    28062,
                    2021960,
                    25199191,
                    25207794
                  ]
                }
              ],
              "layout": {
                "template": {
                  "data": {
                    "bar": [
                      {
                        "error_x": {
                          "color": "#2a3f5f"
                        },
                        "error_y": {
                          "color": "#2a3f5f"
                        },
                        "marker": {
                          "line": {
                            "color": "#E5ECF6",
                            "width": 0.5
                          },
                          "pattern": {
                            "fillmode": "overlay",
                            "size": 10,
                            "solidity": 0.2
                          }
                        },
                        "type": "bar"
                      }
                    ],
                    "barpolar": [
                      {
                        "marker": {
                          "line": {
                            "color": "#E5ECF6",
                            "width": 0.5
                          },
                          "pattern": {
                            "fillmode": "overlay",
                            "size": 10,
                            "solidity": 0.2
                          }
                        },
                        "type": "barpolar"
                      }
                    ],
                    "carpet": [
                      {
                        "aaxis": {
                          "endlinecolor": "#2a3f5f",
                          "gridcolor": "white",
                          "linecolor": "white",
                          "minorgridcolor": "white",
                          "startlinecolor": "#2a3f5f"
                        },
                        "baxis": {
                          "endlinecolor": "#2a3f5f",
                          "gridcolor": "white",
                          "linecolor": "white",
                          "minorgridcolor": "white",
                          "startlinecolor": "#2a3f5f"
                        },
                        "type": "carpet"
                      }
                    ],
                    "choropleth": [
                      {
                        "colorbar": {
                          "outlinewidth": 0,
                          "ticks": ""
                        },
                        "type": "choropleth"
                      }
                    ],
                    "contour": [
                      {
                        "colorbar": {
                          "outlinewidth": 0,
                          "ticks": ""
                        },
                        "colorscale": [
                          [
                            0,
                            "#0d0887"
                          ],
                          [
                            0.1111111111111111,
                            "#46039f"
                          ],
                          [
                            0.2222222222222222,
                            "#7201a8"
                          ],
                          [
                            0.3333333333333333,
                            "#9c179e"
                          ],
                          [
                            0.4444444444444444,
                            "#bd3786"
                          ],
                          [
                            0.5555555555555556,
                            "#d8576b"
                          ],
                          [
                            0.6666666666666666,
                            "#ed7953"
                          ],
                          [
                            0.7777777777777778,
                            "#fb9f3a"
                          ],
                          [
                            0.8888888888888888,
                            "#fdca26"
                          ],
                          [
                            1,
                            "#f0f921"
                          ]
                        ],
                        "type": "contour"
                      }
                    ],
                    "contourcarpet": [
                      {
                        "colorbar": {
                          "outlinewidth": 0,
                          "ticks": ""
                        },
                        "type": "contourcarpet"
                      }
                    ],
                    "heatmap": [
                      {
                        "colorbar": {
                          "outlinewidth": 0,
                          "ticks": ""
                        },
                        "colorscale": [
                          [
                            0,
                            "#0d0887"
                          ],
                          [
                            0.1111111111111111,
                            "#46039f"
                          ],
                          [
                            0.2222222222222222,
                            "#7201a8"
                          ],
                          [
                            0.3333333333333333,
                            "#9c179e"
                          ],
                          [
                            0.4444444444444444,
                            "#bd3786"
                          ],
                          [
                            0.5555555555555556,
                            "#d8576b"
                          ],
                          [
                            0.6666666666666666,
                            "#ed7953"
                          ],
                          [
                            0.7777777777777778,
                            "#fb9f3a"
                          ],
                          [
                            0.8888888888888888,
                            "#fdca26"
                          ],
                          [
                            1,
                            "#f0f921"
                          ]
                        ],
                        "type": "heatmap"
                      }
                    ],
                    "heatmapgl": [
                      {
                        "colorbar": {
                          "outlinewidth": 0,
                          "ticks": ""
                        },
                        "colorscale": [
                          [
                            0,
                            "#0d0887"
                          ],
                          [
                            0.1111111111111111,
                            "#46039f"
                          ],
                          [
                            0.2222222222222222,
                            "#7201a8"
                          ],
                          [
                            0.3333333333333333,
                            "#9c179e"
                          ],
                          [
                            0.4444444444444444,
                            "#bd3786"
                          ],
                          [
                            0.5555555555555556,
                            "#d8576b"
                          ],
                          [
                            0.6666666666666666,
                            "#ed7953"
                          ],
                          [
                            0.7777777777777778,
                            "#fb9f3a"
                          ],
                          [
                            0.8888888888888888,
                            "#fdca26"
                          ],
                          [
                            1,
                            "#f0f921"
                          ]
                        ],
                        "type": "heatmapgl"
                      }
                    ],
                    "histogram": [
                      {
                        "marker": {
                          "pattern": {
                            "fillmode": "overlay",
                            "size": 10,
                            "solidity": 0.2
                          }
                        },
                        "type": "histogram"
                      }
                    ],
                    "histogram2d": [
                      {
                        "colorbar": {
                          "outlinewidth": 0,
                          "ticks": ""
                        },
                        "colorscale": [
                          [
                            0,
                            "#0d0887"
                          ],
                          [
                            0.1111111111111111,
                            "#46039f"
                          ],
                          [
                            0.2222222222222222,
                            "#7201a8"
                          ],
                          [
                            0.3333333333333333,
                            "#9c179e"
                          ],
                          [
                            0.4444444444444444,
                            "#bd3786"
                          ],
                          [
                            0.5555555555555556,
                            "#d8576b"
                          ],
                          [
                            0.6666666666666666,
                            "#ed7953"
                          ],
                          [
                            0.7777777777777778,
                            "#fb9f3a"
                          ],
                          [
                            0.8888888888888888,
                            "#fdca26"
                          ],
                          [
                            1,
                            "#f0f921"
                          ]
                        ],
                        "type": "histogram2d"
                      }
                    ],
                    "histogram2dcontour": [
                      {
                        "colorbar": {
                          "outlinewidth": 0,
                          "ticks": ""
                        },
                        "colorscale": [
                          [
                            0,
                            "#0d0887"
                          ],
                          [
                            0.1111111111111111,
                            "#46039f"
                          ],
                          [
                            0.2222222222222222,
                            "#7201a8"
                          ],
                          [
                            0.3333333333333333,
                            "#9c179e"
                          ],
                          [
                            0.4444444444444444,
                            "#bd3786"
                          ],
                          [
                            0.5555555555555556,
                            "#d8576b"
                          ],
                          [
                            0.6666666666666666,
                            "#ed7953"
                          ],
                          [
                            0.7777777777777778,
                            "#fb9f3a"
                          ],
                          [
                            0.8888888888888888,
                            "#fdca26"
                          ],
                          [
                            1,
                            "#f0f921"
                          ]
                        ],
                        "type": "histogram2dcontour"
                      }
                    ],
                    "mesh3d": [
                      {
                        "colorbar": {
                          "outlinewidth": 0,
                          "ticks": ""
                        },
                        "type": "mesh3d"
                      }
                    ],
                    "parcoords": [
                      {
                        "line": {
                          "colorbar": {
                            "outlinewidth": 0,
                            "ticks": ""
                          }
                        },
                        "type": "parcoords"
                      }
                    ],
                    "pie": [
                      {
                        "automargin": true,
                        "type": "pie"
                      }
                    ],
                    "scatter": [
                      {
                        "fillpattern": {
                          "fillmode": "overlay",
                          "size": 10,
                          "solidity": 0.2
                        },
                        "type": "scatter"
                      }
                    ],
                    "scatter3d": [
                      {
                        "line": {
                          "colorbar": {
                            "outlinewidth": 0,
                            "ticks": ""
                          }
                        },
                        "marker": {
                          "colorbar": {
                            "outlinewidth": 0,
                            "ticks": ""
                          }
                        },
                        "type": "scatter3d"
                      }
                    ],
                    "scattercarpet": [
                      {
                        "marker": {
                          "colorbar": {
                            "outlinewidth": 0,
                            "ticks": ""
                          }
                        },
                        "type": "scattercarpet"
                      }
                    ],
                    "scattergeo": [
                      {
                        "marker": {
                          "colorbar": {
                            "outlinewidth": 0,
                            "ticks": ""
                          }
                        },
                        "type": "scattergeo"
                      }
                    ],
                    "scattergl": [
                      {
                        "marker": {
                          "colorbar": {
                            "outlinewidth": 0,
                            "ticks": ""
                          }
                        },
                        "type": "scattergl"
                      }
                    ],
                    "scattermapbox": [
                      {
                        "marker": {
                          "colorbar": {
                            "outlinewidth": 0,
                            "ticks": ""
                          }
                        },
                        "type": "scattermapbox"
                      }
                    ],
                    "scatterpolar": [
                      {
                        "marker": {
                          "colorbar": {
                            "outlinewidth": 0,
                            "ticks": ""
                          }
                        },
                        "type": "scatterpolar"
                      }
                    ],
                    "scatterpolargl": [
                      {
                        "marker": {
                          "colorbar": {
                            "outlinewidth": 0,
                            "ticks": ""
                          }
                        },
                        "type": "scatterpolargl"
                      }
                    ],
                    "scatterternary": [
                      {
                        "marker": {
                          "colorbar": {
                            "outlinewidth": 0,
                            "ticks": ""
                          }
                        },
                        "type": "scatterternary"
                      }
                    ],
                    "surface": [
                      {
                        "colorbar": {
                          "outlinewidth": 0,
                          "ticks": ""
                        },
                        "colorscale": [
                          [
                            0,
                            "#0d0887"
                          ],
                          [
                            0.1111111111111111,
                            "#46039f"
                          ],
                          [
                            0.2222222222222222,
                            "#7201a8"
                          ],
                          [
                            0.3333333333333333,
                            "#9c179e"
                          ],
                          [
                            0.4444444444444444,
                            "#bd3786"
                          ],
                          [
                            0.5555555555555556,
                            "#d8576b"
                          ],
                          [
                            0.6666666666666666,
                            "#ed7953"
                          ],
                          [
                            0.7777777777777778,
                            "#fb9f3a"
                          ],
                          [
                            0.8888888888888888,
                            "#fdca26"
                          ],
                          [
                            1,
                            "#f0f921"
                          ]
                        ],
                        "type": "surface"
                      }
                    ],
                    "table": [
                      {
                        "cells": {
                          "fill": {
                            "color": "#EBF0F8"
                          },
                          "line": {
                            "color": "white"
                          }
                        },
                        "header": {
                          "fill": {
                            "color": "#C8D4E3"
                          },
                          "line": {
                            "color": "white"
                          }
                        },
                        "type": "table"
                      }
                    ]
                  },
                  "layout": {
                    "annotationdefaults": {
                      "arrowcolor": "#2a3f5f",
                      "arrowhead": 0,
                      "arrowwidth": 1
                    },
                    "autotypenumbers": "strict",
                    "coloraxis": {
                      "colorbar": {
                        "outlinewidth": 0,
                        "ticks": ""
                      }
                    },
                    "colorscale": {
                      "diverging": [
                        [
                          0,
                          "#8e0152"
                        ],
                        [
                          0.1,
                          "#c51b7d"
                        ],
                        [
                          0.2,
                          "#de77ae"
                        ],
                        [
                          0.3,
                          "#f1b6da"
                        ],
                        [
                          0.4,
                          "#fde0ef"
                        ],
                        [
                          0.5,
                          "#f7f7f7"
                        ],
                        [
                          0.6,
                          "#e6f5d0"
                        ],
                        [
                          0.7,
                          "#b8e186"
                        ],
                        [
                          0.8,
                          "#7fbc41"
                        ],
                        [
                          0.9,
                          "#4d9221"
                        ],
                        [
                          1,
                          "#276419"
                        ]
                      ],
                      "sequential": [
                        [
                          0,
                          "#0d0887"
                        ],
                        [
                          0.1111111111111111,
                          "#46039f"
                        ],
                        [
                          0.2222222222222222,
                          "#7201a8"
                        ],
                        [
                          0.3333333333333333,
                          "#9c179e"
                        ],
                        [
                          0.4444444444444444,
                          "#bd3786"
                        ],
                        [
                          0.5555555555555556,
                          "#d8576b"
                        ],
                        [
                          0.6666666666666666,
                          "#ed7953"
                        ],
                        [
                          0.7777777777777778,
                          "#fb9f3a"
                        ],
                        [
                          0.8888888888888888,
                          "#fdca26"
                        ],
                        [
                          1,
                          "#f0f921"
                        ]
                      ],
                      "sequentialminus": [
                        [
                          0,
                          "#0d0887"
                        ],
                        [
                          0.1111111111111111,
                          "#46039f"
                        ],
                        [
                          0.2222222222222222,
                          "#7201a8"
                        ],
                        [
                          0.3333333333333333,
                          "#9c179e"
                        ],
                        [
                          0.4444444444444444,
                          "#bd3786"
                        ],
                        [
                          0.5555555555555556,
                          "#d8576b"
                        ],
                        [
                          0.6666666666666666,
                          "#ed7953"
                        ],
                        [
                          0.7777777777777778,
                          "#fb9f3a"
                        ],
                        [
                          0.8888888888888888,
                          "#fdca26"
                        ],
                        [
                          1,
                          "#f0f921"
                        ]
                      ]
                    },
                    "colorway": [
                      "#636efa",
                      "#EF553B",
                      "#00cc96",
                      "#ab63fa",
                      "#FFA15A",
                      "#19d3f3",
                      "#FF6692",
                      "#B6E880",
                      "#FF97FF",
                      "#FECB52"
                    ],
                    "font": {
                      "color": "#2a3f5f"
                    },
                    "geo": {
                      "bgcolor": "white",
                      "lakecolor": "white",
                      "landcolor": "#E5ECF6",
                      "showlakes": true,
                      "showland": true,
                      "subunitcolor": "white"
                    },
                    "hoverlabel": {
                      "align": "left"
                    },
                    "hovermode": "closest",
                    "mapbox": {
                      "style": "light"
                    },
                    "paper_bgcolor": "white",
                    "plot_bgcolor": "#E5ECF6",
                    "polar": {
                      "angularaxis": {
                        "gridcolor": "white",
                        "linecolor": "white",
                        "ticks": ""
                      },
                      "bgcolor": "#E5ECF6",
                      "radialaxis": {
                        "gridcolor": "white",
                        "linecolor": "white",
                        "ticks": ""
                      }
                    },
                    "scene": {
                      "xaxis": {
                        "backgroundcolor": "#E5ECF6",
                        "gridcolor": "white",
                        "gridwidth": 2,
                        "linecolor": "white",
                        "showbackground": true,
                        "ticks": "",
                        "zerolinecolor": "white"
                      },
                      "yaxis": {
                        "backgroundcolor": "#E5ECF6",
                        "gridcolor": "white",
                        "gridwidth": 2,
                        "linecolor": "white",
                        "showbackground": true,
                        "ticks": "",
                        "zerolinecolor": "white"
                      },
                      "zaxis": {
                        "backgroundcolor": "#E5ECF6",
                        "gridcolor": "white",
                        "gridwidth": 2,
                        "linecolor": "white",
                        "showbackground": true,
                        "ticks": "",
                        "zerolinecolor": "white"
                      }
                    },
                    "shapedefaults": {
                      "line": {
                        "color": "#2a3f5f"
                      }
                    },
                    "ternary": {
                      "aaxis": {
                        "gridcolor": "white",
                        "linecolor": "white",
                        "ticks": ""
                      },
                      "baxis": {
                        "gridcolor": "white",
                        "linecolor": "white",
                        "ticks": ""
                      },
                      "bgcolor": "#E5ECF6",
                      "caxis": {
                        "gridcolor": "white",
                        "linecolor": "white",
                        "ticks": ""
                      }
                    },
                    "title": {
                      "x": 0.05
                    },
                    "xaxis": {
                      "automargin": true,
                      "gridcolor": "white",
                      "linecolor": "white",
                      "ticks": "",
                      "title": {
                        "standoff": 15
                      },
                      "zerolinecolor": "white",
                      "zerolinewidth": 2
                    },
                    "yaxis": {
                      "automargin": true,
                      "gridcolor": "white",
                      "linecolor": "white",
                      "ticks": "",
                      "title": {
                        "standoff": 15
                      },
                      "zerolinecolor": "white",
                      "zerolinewidth": 2
                    }
                  }
                },
                "title": {
                  "text": "Anomaly Detection in Network Traffic"
                },
                "xaxis": {
                  "title": {
                    "text": "Creation Time"
                  }
                },
                "yaxis": {
                  "title": {
                    "text": "Bytes In"
                  }
                }
              }
            }
          },
          "metadata": {},
          "output_type": "display_data"
        }
      ],
      "source": [
        "\n",
        "# Visualize the results using Plotly\n",
        "print(\"Visualizing the results using Plotly...\")\n",
        "fig = go.Figure()\n",
        "fig.add_trace(go.Scatter(x=df['creation_time'], y=df['bytes_in'], mode='markers', marker=dict(color=y_pred, colorscale='Viridis')))\n",
        "fig.add_trace(go.Scatter(x=anomalies['creation_time'], y=anomalies['bytes_in'], mode='markers', marker=dict(color='red', size=10)))\n",
        "fig.update_layout(title='Anomaly Detection in Network Traffic', xaxis_title='Creation Time', yaxis_title='Bytes In')\n",
        "fig.show()\n"
      ]
    }
  ],
  "metadata": {
    "colab": {
      "provenance": []
    },
    "kernelspec": {
      "display_name": "Python 3",
      "name": "python3"
    },
    "language_info": {
      "codemirror_mode": {
        "name": "ipython",
        "version": 3
      },
      "file_extension": ".py",
      "mimetype": "text/x-python",
      "name": "python",
      "nbconvert_exporter": "python",
      "pygments_lexer": "ipython3",
      "version": "3.12.4"
    }
  },
  "nbformat": 4,
  "nbformat_minor": 0
}
